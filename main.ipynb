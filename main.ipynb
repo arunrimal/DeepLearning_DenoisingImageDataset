{
 "cells": [
  {
   "cell_type": "markdown",
   "id": "8962d577",
   "metadata": {},
   "source": [
    "### Importing Libraries"
   ]
  },
  {
   "cell_type": "code",
   "execution_count": 147,
   "id": "b3223f99",
   "metadata": {},
   "outputs": [],
   "source": [
    "import os\n",
    "import numpy as np\n",
    "import matplotlib.pyplot as plt\n",
    "from sklearn.model_selection import train_test_split\n",
    "from skimage.metrics import structural_similarity as ssim\n",
    "import torch\n",
    "import torch.nn as nn\n",
    "import torch.optim as optim\n",
    "from torch.utils.data import Dataset, DataLoader\n",
    "from torchvision import transforms\n",
    "from PIL import Image\n",
    "import torchvision.transforms.functional as TF"
   ]
  },
  {
   "cell_type": "code",
   "execution_count": 148,
   "id": "b23afb3e",
   "metadata": {},
   "outputs": [
    {
     "name": "stdout",
     "output_type": "stream",
     "text": [
      "Using device: cpu\n"
     ]
    }
   ],
   "source": [
    "# Set random seeds for reproducibility\n",
    "torch.manual_seed(42)\n",
    "np.random.seed(42)\n",
    "\n",
    "# Check if GPU is available\n",
    "device = torch.device(\"cuda\" if torch.cuda.is_available() else \"cpu\")\n",
    "print(f\"Using device: {device}\")\n"
   ]
  },
  {
   "cell_type": "markdown",
   "id": "0d54c01f",
   "metadata": {},
   "source": [
    "### Building Dataset as a pair noisy and clean "
   ]
  },
  {
   "cell_type": "code",
   "execution_count": 150,
   "id": "535e016c",
   "metadata": {},
   "outputs": [],
   "source": [
    "# Custom Dataset Class for Document Denoising\n",
    "class DocumentDenoisingDataset(Dataset):\n",
    "    def __init__(self, noisy_dir, clean_dir, transform=None):\n",
    "        self.noisy_dir = noisy_dir\n",
    "        self.clean_dir = clean_dir\n",
    "        self.transform = transform\n",
    "        \n",
    "        # Get file names (assuming matching names in both directories)\n",
    "        self.filenames = [f for f in os.listdir(noisy_dir) if f.endswith(('.png', '.jpg', '.tif'))]\n",
    "        \n",
    "    def __len__(self):\n",
    "        return len(self.filenames)\n",
    "    \n",
    "    def __getitem__(self, idx):\n",
    "        # Load images\n",
    "        noisy_path = os.path.join(self.noisy_dir, self.filenames[idx])\n",
    "        clean_path = os.path.join(self.clean_dir, self.filenames[idx])\n",
    "        \n",
    "        noisy_image = Image.open(noisy_path).convert('L')  # Convert to grayscale\n",
    "        clean_image = Image.open(clean_path).convert('L')\n",
    "        \n",
    "        # Apply transforms if any\n",
    "        if self.transform:\n",
    "            noisy_image = self.transform(noisy_image)\n",
    "            clean_image = self.transform(clean_image)\n",
    "        else:\n",
    "            # Default transformation\n",
    "            noisy_image = TF.to_tensor(noisy_image)\n",
    "            clean_image = TF.to_tensor(clean_image)\n",
    "            \n",
    "        return noisy_image, clean_image\n"
   ]
  },
  {
   "cell_type": "markdown",
   "id": "cba1f1a3",
   "metadata": {},
   "source": [
    "### Build a Autoencoder Model"
   ]
  },
  {
   "cell_type": "code",
   "execution_count": 151,
   "id": "96e71ce9",
   "metadata": {},
   "outputs": [],
   "source": [
    "# Define the Convolutional Autoencoder architecture\n",
    "class ConvAutoencoder(nn.Module):\n",
    "    def __init__(self):\n",
    "        super(ConvAutoencoder, self).__init__()\n",
    "        \n",
    "        # Encoder\n",
    "        self.encoder = nn.Sequential(\n",
    "            nn.Conv2d(1, 32, kernel_size=3, stride=1, padding=1),\n",
    "            nn.ReLU(True),\n",
    "            nn.MaxPool2d(2, 2),  # Downsample by factor of 2\n",
    "            \n",
    "            nn.Conv2d(32, 64, kernel_size=3, stride=1, padding=1),\n",
    "            nn.ReLU(True),\n",
    "            nn.MaxPool2d(2, 2),  # Downsample by factor of 2\n",
    "            \n",
    "            nn.Conv2d(64, 128, kernel_size=3, stride=1, padding=1),\n",
    "            nn.ReLU(True),\n",
    "            nn.MaxPool2d(2, 2)   # Downsample by factor of 2\n",
    "        )\n",
    "        \n",
    "        # Decoder\n",
    "        self.decoder = nn.Sequential(\n",
    "            nn.ConvTranspose2d(128, 64, kernel_size=3, stride=2, padding=1, output_padding=1),\n",
    "            nn.ReLU(True),\n",
    "            \n",
    "            nn.ConvTranspose2d(64, 32, kernel_size=3, stride=2, padding=1, output_padding=1),\n",
    "            nn.ReLU(True),\n",
    "            \n",
    "            nn.ConvTranspose2d(32, 1, kernel_size=3, stride=2, padding=1, output_padding=1),\n",
    "            nn.Sigmoid()  # Output values between 0 and 1\n",
    "        )\n",
    "        \n",
    "    def forward(self, x):\n",
    "        x = self.encoder(x)\n",
    "        x = self.decoder(x)\n",
    "        return x"
   ]
  },
  {
   "cell_type": "markdown",
   "id": "b3d341bc",
   "metadata": {},
   "source": [
    "### Train function of model "
   ]
  },
  {
   "cell_type": "code",
   "execution_count": 164,
   "id": "47bf43a5",
   "metadata": {},
   "outputs": [],
   "source": [
    "import time\n",
    "\n",
    "def train_model(model, train_loader, valid_loder, criterion, optimizer, num_epochs=10):\n",
    "    train_losses = []\n",
    "    valid_losses = []\n",
    "    times = []\n",
    "    start_time = time.time()\n",
    "    \n",
    "    for epoch in range(num_epochs):\n",
    "        # Training\n",
    "        model.train()\n",
    "        running_loss = 0.0\n",
    "        \n",
    "        for noisy_imgs, clean_imgs in train_loader:\n",
    "            noisy_imgs, clean_imgs = noisy_imgs.to(device), clean_imgs.to(device)\n",
    "            \n",
    "            # Forward pass\n",
    "            outputs = model(noisy_imgs)\n",
    "            loss = criterion(outputs, clean_imgs)\n",
    "            \n",
    "            # Backward and optimize\n",
    "            optimizer.zero_grad()\n",
    "            loss.backward()\n",
    "            optimizer.step()\n",
    "            \n",
    "            running_loss += loss.item()\n",
    "            \n",
    "        train_loss = running_loss / len(train_loader)\n",
    "        train_losses.append(train_loss)\n",
    "        \n",
    "        # Validation\n",
    "        model.eval()\n",
    "        valid_loss = 0.0\n",
    "        \n",
    "        with torch.no_grad():\n",
    "            for noisy_imgs, clean_imgs in valid_loder:\n",
    "                noisy_imgs, clean_imgs = noisy_imgs.to(device), clean_imgs.to(device)\n",
    "                outputs = model(noisy_imgs)\n",
    "                loss = criterion(outputs, clean_imgs)\n",
    "                valid_loss += loss.item()\n",
    "                \n",
    "        valid_loss = valid_loss / len(valid_loder)\n",
    "        valid_losses.append(valid_loss)\n",
    "        \n",
    "        # Record elapsed time\n",
    "        current_time = time.time() - start_time\n",
    "        times.append(current_time)\n",
    "        \n",
    "        print(f'Epoch [{epoch+1}/{num_epochs}], Train Loss: {train_loss:.4f}, Valid Loss: {valid_loss:.4f}, Time: {current_time:.2f}s')\n",
    "        # print(f'Epoch [{epoch+1}/{num_epochs}], Train Loss: {train_loss:.4f}, Time: {current_time:.2f}s')\n",
    "    \n",
    "    # return train_losses, test_losses = 0, times\n",
    "    return train_losses, valid_losses, times"
   ]
  },
  {
   "cell_type": "code",
   "execution_count": 135,
   "id": "e86960db",
   "metadata": {},
   "outputs": [],
   "source": [
    "# Function to calculate MSE and SSIM for test samples\n",
    "def evaluate_model(model, test_loader, criterion=nn.MSELoss()):\n",
    "    model.eval()\n",
    "    mse_scores = []\n",
    "    ssim_scores = []\n",
    "    test_images = []\n",
    "    test_losses = []  # List to store individual batch losses\n",
    "    total_test_loss = 0.0\n",
    "    \n",
    "    with torch.no_grad():\n",
    "        for i, (noisy_imgs, clean_imgs) in enumerate(test_loader):\n",
    "            noisy_imgs, clean_imgs = noisy_imgs.to(device), clean_imgs.to(device)\n",
    "            \n",
    "            # Get denoised images\n",
    "            denoised_imgs = model(noisy_imgs)\n",
    "            \n",
    "            # Calculate batch loss\n",
    "            loss = criterion(denoised_imgs, clean_imgs)\n",
    "            total_test_loss += loss.item()\n",
    "            test_losses.append(loss.item())  # Store the loss for this batch\n",
    "            \n",
    "            # Convert to numpy for evaluation metrics\n",
    "            for j in range(noisy_imgs.size(0)):\n",
    "                noisy_np = noisy_imgs[j].squeeze().cpu().numpy()\n",
    "                clean_np = clean_imgs[j].squeeze().cpu().numpy()\n",
    "                denoised_np = denoised_imgs[j].squeeze().cpu().numpy()\n",
    "                \n",
    "                # Calculate MSE\n",
    "                mse = np.mean((clean_np - denoised_np) ** 2)\n",
    "                mse_scores.append(mse)\n",
    "                \n",
    "                # Calculate SSIM\n",
    "                ssim_score = ssim(clean_np, denoised_np, data_range=1.0)\n",
    "                ssim_scores.append(ssim_score)\n",
    "                \n",
    "                # Store sample images for visualization\n",
    "                if i == 0 and j < 5:  # Save first 5 test examples\n",
    "                    test_images.append((noisy_np, clean_np, denoised_np))\n",
    "    \n",
    "    # Calculate average metrics\n",
    "    avg_mse = np.mean(mse_scores)\n",
    "    avg_ssim = np.mean(ssim_scores)\n",
    "    avg_test_loss = total_test_loss / len(test_loader)\n",
    "    \n",
    "    # Print summary statistics\n",
    "    print(\"\\nTest Set Evaluation:\")\n",
    "    print(f\"Average Test Loss: {avg_test_loss:.6f}\")\n",
    "    print(f\"Average MSE: {avg_mse:.6f}\")\n",
    "    print(f\"Average SSIM: {avg_ssim:.6f}\")\n",
    "    print(f\"MSE Range: {min(mse_scores):.6f} to {max(mse_scores):.6f}\")\n",
    "    print(f\"SSIM Range: {min(ssim_scores):.6f} to {max(ssim_scores):.6f}\")\n",
    "    print(f\"Test Loses: {test_losses}\")\n",
    "    \n",
    "    return mse_scores, ssim_scores, test_images, test_losses"
   ]
  },
  {
   "cell_type": "code",
   "execution_count": 158,
   "id": "64da78ac",
   "metadata": {},
   "outputs": [],
   "source": [
    "# Plot training and validation losses\n",
    "def plot_losses(train_losses, valid_losses):\n",
    "    plt.figure(figsize=(10, 5))\n",
    "    plt.plot(train_losses, label='Training Loss')\n",
    "    plt.plot(valid_losses, label='Validation Loss')\n",
    "    plt.xlabel('Epochs')\n",
    "    plt.ylabel('Loss')\n",
    "    plt.title('Training and Validation Losses')\n",
    "    plt.legend()\n",
    "    plt.show()\n",
    "\n"
   ]
  },
  {
   "cell_type": "code",
   "execution_count": 159,
   "id": "b3d6feb1",
   "metadata": {},
   "outputs": [],
   "source": [
    "def plot_training_metrics(train_losses, valid_losses, times):\n",
    "    # Create a figure with two subplots side by side\n",
    "    fig, axes = plt.subplots(1, 2, figsize=(16, 6))\n",
    "    \n",
    "    # Plot 1: Training error vs. Time\n",
    "    axes[0].plot(times, train_losses, 'b-', label='Training Error')\n",
    "    axes[0].set_xlabel('Training Time (seconds)')\n",
    "    axes[0].set_ylabel('Error (MSE)')\n",
    "    axes[0].set_title('Training Error vs. Training Time')\n",
    "    axes[0].grid(True)\n",
    "    axes[0].legend()\n",
    "    \n",
    "    # Plot 2: Training and Testing error vs. Time\n",
    "    axes[1].plot(times, train_losses, 'b-', label='Training Error')\n",
    "    axes[1].plot(times, valid_losses, 'r-', label='Validation Error')\n",
    "    axes[1].set_xlabel('Validation Time (seconds)')\n",
    "    axes[1].set_ylabel('Error (MSE)')\n",
    "    axes[1].set_title('Training and Validation Error vs. Training Time')\n",
    "    axes[1].grid(True)\n",
    "    axes[1].legend()\n",
    "    \n",
    "    plt.tight_layout()\n",
    "    plt.show()"
   ]
  },
  {
   "cell_type": "code",
   "execution_count": 160,
   "id": "91ba26af",
   "metadata": {},
   "outputs": [],
   "source": [
    "# Define paths (you can modify these)\n",
    "noisy_dir = \"denoising_data/train/\"\n",
    "clean_dir = \"denoising_data/train_cleaned/\"\n",
    "img_size = (256, 256)\n",
    "val_size = 0.2 # of train\n",
    "test_size = 0.2\n",
    "\n",
    "# Define transformations\n",
    "transform = transforms.Compose([\n",
    "    transforms.Resize(img_size),\n",
    "    transforms.ToTensor()\n",
    "])"
   ]
  },
  {
   "cell_type": "code",
   "execution_count": 161,
   "id": "e790eef9",
   "metadata": {},
   "outputs": [
    {
     "name": "stdout",
     "output_type": "stream",
     "text": [
      "(tensor([[[0.9098, 0.9059, 0.8902,  ..., 0.9137, 0.9098, 0.9137],\n",
      "         [0.8824, 0.8902, 0.8902,  ..., 0.9020, 0.9059, 0.9216],\n",
      "         [0.8824, 0.8980, 0.8980,  ..., 0.9059, 0.8941, 0.9098],\n",
      "         ...,\n",
      "         [0.8588, 0.8588, 0.8706,  ..., 0.8863, 0.8863, 0.8784],\n",
      "         [0.8549, 0.8667, 0.8941,  ..., 0.8980, 0.8784, 0.8706],\n",
      "         [0.8941, 0.8863, 0.8980,  ..., 0.9176, 0.8118, 0.5608]]]), tensor([[[1.0000, 1.0000, 1.0000,  ..., 1.0000, 1.0000, 1.0000],\n",
      "         [1.0000, 1.0000, 1.0000,  ..., 1.0000, 1.0000, 1.0000],\n",
      "         [1.0000, 1.0000, 1.0000,  ..., 1.0000, 1.0000, 1.0000],\n",
      "         ...,\n",
      "         [1.0000, 1.0000, 1.0000,  ..., 1.0000, 1.0000, 1.0000],\n",
      "         [1.0000, 1.0000, 1.0000,  ..., 1.0000, 0.9961, 0.9922],\n",
      "         [1.0000, 1.0000, 1.0000,  ..., 1.0000, 0.8941, 0.5882]]]))\n"
     ]
    }
   ],
   "source": [
    "# Create full dataset\n",
    "full_dataset = DocumentDenoisingDataset(noisy_dir, clean_dir, transform=transform)\n",
    "print(full_dataset[0])"
   ]
  },
  {
   "cell_type": "markdown",
   "id": "d6bbc70f",
   "metadata": {},
   "source": [
    "### Dataset preparation"
   ]
  },
  {
   "cell_type": "code",
   "execution_count": 162,
   "id": "a72729de",
   "metadata": {},
   "outputs": [],
   "source": [
    "# Calculate split sizes\n",
    "test_split = int(test_size * len(full_dataset))\n",
    "remaining_size = len(full_dataset) - test_split\n",
    "valid_split = int(val_size * remaining_size)  # Validation is % of remaining data after test split\n",
    "train_split = remaining_size - valid_split\n",
    "\n",
    "# Split into train, validation, and test sets\n",
    "train_dataset, valid_dataset, test_dataset = torch.utils.data.random_split(\n",
    "    full_dataset, \n",
    "    [train_split, valid_split, test_split],\n",
    "    generator=torch.Generator().manual_seed(42)  # for reproducibility\n",
    ")"
   ]
  },
  {
   "cell_type": "markdown",
   "id": "38489036",
   "metadata": {},
   "source": [
    "### Model Initialization and running"
   ]
  },
  {
   "cell_type": "code",
   "execution_count": 166,
   "id": "9306e392",
   "metadata": {},
   "outputs": [
    {
     "name": "stdout",
     "output_type": "stream",
     "text": [
      "Epoch [1/10], Train Loss: 0.1367, Valid Loss: 0.1028, Time: 2.65s\n",
      "Epoch [2/10], Train Loss: 0.0714, Valid Loss: 0.0532, Time: 5.18s\n",
      "Epoch [3/10], Train Loss: 0.0506, Valid Loss: 0.0528, Time: 9.60s\n",
      "Epoch [4/10], Train Loss: 0.0510, Valid Loss: 0.0535, Time: 14.73s\n",
      "Epoch [5/10], Train Loss: 0.0510, Valid Loss: 0.0533, Time: 20.39s\n",
      "Epoch [6/10], Train Loss: 0.0511, Valid Loss: 0.0533, Time: 27.64s\n",
      "Epoch [7/10], Train Loss: 0.0512, Valid Loss: 0.0533, Time: 36.49s\n",
      "Epoch [8/10], Train Loss: 0.0509, Valid Loss: 0.0532, Time: 46.25s\n",
      "Epoch [9/10], Train Loss: 0.0509, Valid Loss: 0.0530, Time: 54.46s\n",
      "Epoch [10/10], Train Loss: 0.0509, Valid Loss: 0.0528, Time: 63.34s\n"
     ]
    }
   ],
   "source": [
    "# Create data loaders\n",
    "train_loader = DataLoader(train_dataset, batch_size=16, shuffle=True, num_workers=0)\n",
    "valid_loader = DataLoader(valid_dataset, batch_size=16, shuffle=False, num_workers=0)\n",
    "test_loader = DataLoader(test_dataset, batch_size=1, shuffle=False, num_workers=0)\n",
    "\n",
    "# Initialize model\n",
    "model = ConvAutoencoder().to(device)\n",
    "\n",
    "# Define loss function and optimizer\n",
    "criterion = nn.MSELoss()\n",
    "optimizer = optim.Adam(model.parameters(), lr=0.001)\n",
    "\n",
    "# Train the model (using test set for validation in this simplified version)\n",
    "# train_losses, test_losses = train_model(model, train_loader, test_loader, criterion, optimizer, num_epochs=20)\n",
    "\n",
    "# Train the model with time tracking\n",
    "train_losses, valid_loss, times = train_model(model, train_loader, valid_loader,  criterion, optimizer, num_epochs=10)\n",
    "\n"
   ]
  },
  {
   "cell_type": "code",
   "execution_count": 168,
   "id": "a7bfefb0",
   "metadata": {},
   "outputs": [],
   "source": [
    "# # Plot training curves\n",
    "# plot_losses(train_losses, test_losses)"
   ]
  },
  {
   "cell_type": "code",
   "execution_count": 169,
   "id": "2a3c2cc8",
   "metadata": {},
   "outputs": [
    {
     "name": "stdout",
     "output_type": "stream",
     "text": [
      "\n",
      "Test Set Evaluation:\n",
      "Average Test Loss: 0.053024\n",
      "Average MSE: 0.053024\n",
      "Average SSIM: 0.156820\n",
      "MSE Range: 0.037229 to 0.074704\n",
      "SSIM Range: 0.105862 to 0.208253\n",
      "Test Loses: [0.05005605146288872, 0.05092517286539078, 0.06847523152828217, 0.04427530616521835, 0.039112724363803864, 0.05292666703462601, 0.07249962538480759, 0.053056761622428894, 0.053176313638687134, 0.03965269774198532, 0.06732865422964096, 0.06161641702055931, 0.07470370829105377, 0.05006899684667587, 0.04088500142097473, 0.048191238194704056, 0.05168551951646805, 0.046656545251607895, 0.06078130751848221, 0.05316375941038132, 0.03722921386361122, 0.05476660281419754, 0.06733335554599762, 0.052041299641132355, 0.06681303679943085, 0.038562074303627014, 0.05012523755431175, 0.03857436031103134]\n"
     ]
    }
   ],
   "source": [
    "# Evaluate on test set\n",
    "mse_scores, ssim_scores, test_images, test_losses = evaluate_model(model, test_loader)"
   ]
  },
  {
   "cell_type": "code",
   "execution_count": 170,
   "id": "42a0b5d5",
   "metadata": {},
   "outputs": [
    {
     "data": {
      "image/png": "[encoded data removed]",
      "text/plain": [
       "<Figure size 1000x500 with 1 Axes>"
      ]
     },
     "metadata": {},
     "output_type": "display_data"
    }
   ],
   "source": [
    "# Plot training curves\n",
    "plot_losses(train_losses, valid_loss)"
   ]
  },
  {
   "cell_type": "code",
   "execution_count": 171,
   "id": "f7c34ce3",
   "metadata": {},
   "outputs": [
    {
     "name": "stdout",
     "output_type": "stream",
     "text": [
      "\n",
      "Detailed Test Results:\n",
      "----------------------\n",
      "Image 1: MSE = 0.050056, SSIM = 0.208253\n",
      "Image 2: MSE = 0.050925, SSIM = 0.177843\n",
      "Image 3: MSE = 0.068475, SSIM = 0.169232\n",
      "Image 4: MSE = 0.044275, SSIM = 0.174743\n",
      "Image 5: MSE = 0.039113, SSIM = 0.162867\n",
      "Image 6: MSE = 0.052927, SSIM = 0.178258\n",
      "Image 7: MSE = 0.072500, SSIM = 0.170422\n",
      "Image 8: MSE = 0.053057, SSIM = 0.145119\n",
      "Image 9: MSE = 0.053176, SSIM = 0.143805\n",
      "Image 10: MSE = 0.039653, SSIM = 0.121969\n",
      "Image 11: MSE = 0.067329, SSIM = 0.110059\n",
      "Image 12: MSE = 0.061616, SSIM = 0.105862\n",
      "Image 13: MSE = 0.074704, SSIM = 0.162582\n",
      "Image 14: MSE = 0.050069, SSIM = 0.197278\n",
      "Image 15: MSE = 0.040885, SSIM = 0.163920\n",
      "Image 16: MSE = 0.048191, SSIM = 0.179209\n",
      "Image 17: MSE = 0.051686, SSIM = 0.185856\n",
      "Image 18: MSE = 0.046657, SSIM = 0.186162\n",
      "Image 19: MSE = 0.060781, SSIM = 0.118984\n",
      "Image 20: MSE = 0.053164, SSIM = 0.140747\n",
      "Image 21: MSE = 0.037229, SSIM = 0.180173\n",
      "Image 22: MSE = 0.054767, SSIM = 0.146156\n",
      "Image 23: MSE = 0.067333, SSIM = 0.109632\n",
      "Image 24: MSE = 0.052041, SSIM = 0.194065\n",
      "Image 25: MSE = 0.066813, SSIM = 0.160360\n",
      "Image 26: MSE = 0.038562, SSIM = 0.129625\n",
      "Image 27: MSE = 0.050125, SSIM = 0.145675\n",
      "Image 28: MSE = 0.038574, SSIM = 0.122091\n"
     ]
    }
   ],
   "source": [
    "# Report detailed metrics for each test image\n",
    "print(\"\\nDetailed Test Results:\")\n",
    "print(\"----------------------\")\n",
    "for i, (mse, ssim_score) in enumerate(zip(mse_scores, ssim_scores)):\n",
    "    print(f\"Image {i+1}: MSE = {mse:.6f}, SSIM = {ssim_score:.6f}\")\n",
    "\n"
   ]
  },
  {
   "cell_type": "code",
   "execution_count": 173,
   "id": "52ceee02",
   "metadata": {},
   "outputs": [
    {
     "data": {
      "image/png": "[encoded data removed]",
      "text/plain": [
       "<Figure size 1600x600 with 2 Axes>"
      ]
     },
     "metadata": {},
     "output_type": "display_data"
    }
   ],
   "source": [
    "# Plot new time-based metrics\n",
    "plot_training_metrics(train_losses, valid_loss, times)\n"
   ]
  },
  {
   "cell_type": "code",
   "execution_count": 174,
   "id": "f8efa6c3",
   "metadata": {},
   "outputs": [],
   "source": [
    "def visualize_results(test_images):\n",
    "    n_images = len(test_images)\n",
    "    fig, axes = plt.subplots(n_images, 3, figsize=(12, 4*n_images))\n",
    "    \n",
    "    # Handle case when there's only one test image\n",
    "    if n_images == 1:\n",
    "        axes = axes.reshape(1, 3)\n",
    "    \n",
    "    for i, (noisy, clean, denoised) in enumerate(test_images):\n",
    "        # Display noisy image\n",
    "        axes[i, 0].imshow(noisy, cmap='gray')\n",
    "        axes[i, 0].set_title('Noisy Image')\n",
    "        axes[i, 0].axis('off')\n",
    "        \n",
    "        # Display ground truth\n",
    "        axes[i, 1].imshow(clean, cmap='gray')\n",
    "        axes[i, 1].set_title('Clean Image (Ground Truth)')\n",
    "        axes[i, 1].axis('off')\n",
    "        \n",
    "        # Display denoised image\n",
    "        axes[i, 2].imshow(denoised, cmap='gray')\n",
    "        axes[i, 2].set_title(f'Denoised Image\\nMSE: {np.mean((clean-denoised)**2):.6f}\\nSSIM: {ssim(clean, denoised, data_range=1.0):.6f}')\n",
    "        axes[i, 2].axis('off')\n",
    "    \n",
    "    plt.tight_layout()\n",
    "    plt.show()"
   ]
  },
  {
   "cell_type": "code",
   "execution_count": null,
   "id": "bd6f78a7",
   "metadata": {},
   "outputs": [],
   "source": [
    "# Visualize results with fixed function\n",
    "visualize_results(test_images)"
   ]
  },
  {
   "cell_type": "code",
   "execution_count": null,
   "id": "483281f3",
   "metadata": {},
   "outputs": [],
   "source": []
  }
 ],
 "metadata": {
  "kernelspec": {
   "display_name": "base",
   "language": "python",
   "name": "python3"
  },
  "language_info": {
   "codemirror_mode": {
    "name": "ipython",
    "version": 3
   },
   "file_extension": ".py",
   "mimetype": "text/x-python",
   "name": "python",
   "nbconvert_exporter": "python",
   "pygments_lexer": "ipython3",
   "version": "3.12.4"
  }
 },
 "nbformat": 4,
 "nbformat_minor": 5
}
